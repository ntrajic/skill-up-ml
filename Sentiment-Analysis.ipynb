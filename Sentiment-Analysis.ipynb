{
 "cells": [
  {
   "cell_type": "code",
   "execution_count": 7,
   "id": "da4fd873-13ad-4561-9890-386d2935ca35",
   "metadata": {},
   "outputs": [
    {
     "name": "stdout",
     "output_type": "stream",
     "text": [
      "Defaulting to user installation because normal site-packages is not writeable\n",
      "Looking in links: /usr/share/pip-wheels\n",
      "Requirement already satisfied: nltk in /opt/conda/envs/anaconda-panel-2023.05-py310/lib/python3.11/site-packages (3.8.1)\n",
      "Requirement already satisfied: click in /opt/conda/envs/anaconda-panel-2023.05-py310/lib/python3.11/site-packages (from nltk) (8.0.4)\n",
      "Requirement already satisfied: joblib in /opt/conda/envs/anaconda-panel-2023.05-py310/lib/python3.11/site-packages (from nltk) (1.2.0)\n",
      "Requirement already satisfied: regex>=2021.8.3 in /opt/conda/envs/anaconda-panel-2023.05-py310/lib/python3.11/site-packages (from nltk) (2022.7.9)\n",
      "Requirement already satisfied: tqdm in /opt/conda/envs/anaconda-panel-2023.05-py310/lib/python3.11/site-packages (from nltk) (4.65.0)\n"
     ]
    }
   ],
   "source": [
    "!pip install nltk"
   ]
  },
  {
   "cell_type": "code",
   "execution_count": 11,
   "id": "c4feacdc-9de9-42e3-81f9-7e9bba380591",
   "metadata": {},
   "outputs": [
    {
     "name": "stderr",
     "output_type": "stream",
     "text": [
      "[nltk_data] Downloading package vader_lexicon to\n",
      "[nltk_data]     /home/8ea0fabe-4380-46fc-\n",
      "[nltk_data]     af9f-4f97a04478a3/nltk_data...\n",
      "[nltk_data] Downloading package subjectivity to\n",
      "[nltk_data]     /home/8ea0fabe-4380-46fc-\n",
      "[nltk_data]     af9f-4f97a04478a3/nltk_data...\n",
      "[nltk_data]   Unzipping corpora/subjectivity.zip.\n",
      "[nltk_data] Downloading package movie_reviews to\n",
      "[nltk_data]     /home/8ea0fabe-4380-46fc-\n",
      "[nltk_data]     af9f-4f97a04478a3/nltk_data...\n",
      "[nltk_data]   Unzipping corpora/movie_reviews.zip.\n"
     ]
    }
   ],
   "source": [
    "import nltk\n",
    "from nltk.sentiment import SentimentIntensityAnalyzer\n",
    "nltk.download('vader_lexicon')\n",
    "nltk.download('subjectivity')\n",
    "nltk.download('movie_reviews')\n",
    "\n",
    "sia = SentimentIntensityAnalyzer()\n"
   ]
  },
  {
   "cell_type": "code",
   "execution_count": 13,
   "id": "2ad253de-2ffd-4f78-aae4-16ab66023579",
   "metadata": {},
   "outputs": [
    {
     "data": {
      "text/plain": [
       "{'neg': 0.0, 'neu': 1.0, 'pos': 0.0, 'compound': 0.0}"
      ]
     },
     "execution_count": 13,
     "metadata": {},
     "output_type": "execute_result"
    }
   ],
   "source": [
    "sia.polarity_scores('I am a human')"
   ]
  },
  {
   "cell_type": "code",
   "execution_count": 18,
   "id": "d3e7d081-d260-4af0-9232-527cbf91626d",
   "metadata": {},
   "outputs": [
    {
     "data": {
      "text/plain": [
       "{'neg': 1.0, 'neu': 0.0, 'pos': 0.0, 'compound': -0.5423}"
      ]
     },
     "execution_count": 18,
     "metadata": {},
     "output_type": "execute_result"
    }
   ],
   "source": [
    "sia.polarity_scores('Horrible')"
   ]
  },
  {
   "cell_type": "code",
   "execution_count": 22,
   "id": "f67d6b77-c807-4e23-ba5f-9c9ae183ded7",
   "metadata": {},
   "outputs": [
    {
     "data": {
      "text/plain": [
       "{'neg': 0.0, 'neu': 0.79, 'pos': 0.21, 'compound': 0.3384}"
      ]
     },
     "execution_count": 22,
     "metadata": {},
     "output_type": "execute_result"
    }
   ],
   "source": [
    "sia.polarity_scores('This companty has done very well in the past year')"
   ]
  },
  {
   "cell_type": "code",
   "execution_count": 24,
   "id": "e43371b5-ae98-41cf-a8c3-acc944d33ce4",
   "metadata": {},
   "outputs": [
    {
     "data": {
      "text/plain": [
       "{'neg': 0.0, 'neu': 0.534, 'pos': 0.466, 'compound': 0.54}"
      ]
     },
     "execution_count": 24,
     "metadata": {},
     "output_type": "execute_result"
    }
   ],
   "source": [
    "sia.polarity_scores('Thsi movie is very good!')"
   ]
  },
  {
   "cell_type": "code",
   "execution_count": 26,
   "id": "b1545f5d-8f84-4c84-a34b-f551cf0357f8",
   "metadata": {},
   "outputs": [
    {
     "data": {
      "text/plain": [
       "{'neg': 0.0, 'neu': 0.481, 'pos': 0.519, 'compound': 0.7509}"
      ]
     },
     "execution_count": 26,
     "metadata": {},
     "output_type": "execute_result"
    }
   ],
   "source": [
    "sia.polarity_scores(\"The economy was never so good!\")"
   ]
  },
  {
   "cell_type": "code",
   "execution_count": 8,
   "id": "16ae5302-9a32-495c-9248-0e272db04e95",
   "metadata": {},
   "outputs": [
    {
     "name": "stdout",
     "output_type": "stream",
     "text": [
      "--2024-03-13 00:25:00--  https://code.visualstudio.com/\n",
      "Resolving proxy.server (proxy.server)... 10.0.0.183\n",
      "Connecting to proxy.server (proxy.server)|10.0.0.183|:3128... connected.\n",
      "Proxy request sent, awaiting response... 200 OK\n",
      "Length: 39653 (39K) [text/html]\n",
      "Saving to: ‘index.html’\n",
      "\n",
      "index.html          100%[===================>]  38.72K  --.-KB/s    in 0.01s   \n",
      "\n",
      "2024-03-13 00:25:01 (2.66 MB/s) - ‘index.html’ saved [39653/39653]\n",
      "\n"
     ]
    }
   ],
   "source": [
    "# note \n",
    "# !     conda install -c microsoft vscode     # to install visualcode ide on this platform\n",
    "\n",
    "! wget  javascript:void(0)\n"
   ]
  },
  {
   "cell_type": "code",
   "execution_count": null,
   "id": "f8b0f483-ee45-42d2-b591-0c1c2a9fb8b7",
   "metadata": {},
   "outputs": [],
   "source": [
    "!touch info.txt\n"
   ]
  }
 ],
 "metadata": {
  "kernelspec": {
   "display_name": "anaconda-panel-2023.05-py310",
   "language": "python",
   "name": "conda-env-anaconda-panel-2023.05-py310-py"
  },
  "language_info": {
   "codemirror_mode": {
    "name": "ipython",
    "version": 3
   },
   "file_extension": ".py",
   "mimetype": "text/x-python",
   "name": "python",
   "nbconvert_exporter": "python",
   "pygments_lexer": "ipython3",
   "version": "3.11.5"
  }
 },
 "nbformat": 4,
 "nbformat_minor": 5
}
